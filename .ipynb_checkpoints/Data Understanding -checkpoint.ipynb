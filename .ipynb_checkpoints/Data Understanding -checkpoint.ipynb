{
 "cells": [
  {
   "cell_type": "markdown",
   "metadata": {},
   "source": [
    "# Data Understanding"
   ]
  },
  {
   "cell_type": "markdown",
   "metadata": {},
   "source": [
    "## Title : Collisions—All Years"
   ]
  },
  {
   "cell_type": "raw",
   "metadata": {},
   "source": [
    "* Provide data of road accidents recorded by Traffic Records."
   ]
  },
  {
   "cell_type": "raw",
   "metadata": {},
   "source": [
    "* This includes all types of collisions. Collisions will display at the intersection or mid-block of a segment. Timeframe: 2004 to Present."
   ]
  },
  {
   "cell_type": "raw",
   "metadata": {},
   "source": [
    "* Our predictor or target variable will be 'SEVERITYCODE' because it is used measure the severity of an accident from 0 to 5 within the dataset. Attributes used to weigh the severity of an accident are 'WEATHER', 'ROADCOND' and 'LIGHTCOND'."
   ]
  },
  {
   "cell_type": "markdown",
   "metadata": {},
   "source": [
    "0 : Little to no Probability (Clear Conditions)\n",
    "\n",
    "1 : Very Low Probablility - Chance or Property Damage\n",
    "\n",
    "2 : Low Probability - Chance of Injury\n",
    "\n",
    "3 : Mild Probability - Chance of Serious Injury\n",
    "\n",
    "4 : High Probability - Chance of Fatality\n"
   ]
  }
 ],
 "metadata": {
  "kernelspec": {
   "display_name": "Python 3",
   "language": "python",
   "name": "python3"
  },
  "language_info": {
   "codemirror_mode": {
    "name": "ipython",
    "version": 3
   },
   "file_extension": ".py",
   "mimetype": "text/x-python",
   "name": "python",
   "nbconvert_exporter": "python",
   "pygments_lexer": "ipython3",
   "version": "3.8.2"
  }
 },
 "nbformat": 4,
 "nbformat_minor": 4
}
